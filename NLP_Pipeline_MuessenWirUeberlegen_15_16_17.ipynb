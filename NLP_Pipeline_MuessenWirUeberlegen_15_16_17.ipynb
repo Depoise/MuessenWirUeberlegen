{
 "cells": [
  {
   "cell_type": "markdown",
   "id": "3337a5f3",
   "metadata": {},
   "source": [
    "# DIS25 Natural Language Processing\n",
    "### Untersuchung Gender Bias im Deutschen Bundestag  \n",
    "\n",
    "Gruppe: Dennis Depoi, Leonie Schulz, Annemarie Szyprons, Melanie Ullrich  \n",
    "Gruppenname: MüssenWirÜberlegen  "
   ]
  },
  {
   "cell_type": "markdown",
   "id": "cc2e883d",
   "metadata": {},
   "source": [
    "### 1. Initialisieren"
   ]
  },
  {
   "cell_type": "code",
   "execution_count": 1,
   "id": "ad718c1b",
   "metadata": {},
   "outputs": [
    {
     "name": "stderr",
     "output_type": "stream",
     "text": [
      "[nltk_data] Downloading package punkt to\n",
      "[nltk_data]     C:\\Users\\Ulli\\AppData\\Roaming\\nltk_data...\n",
      "[nltk_data]   Package punkt is already up-to-date!\n",
      "[nltk_data] Downloading package stopwords to\n",
      "[nltk_data]     C:\\Users\\Ulli\\AppData\\Roaming\\nltk_data...\n",
      "[nltk_data]   Package stopwords is already up-to-date!\n",
      "[nltk_data] Downloading package wordnet to\n",
      "[nltk_data]     C:\\Users\\Ulli\\AppData\\Roaming\\nltk_data...\n",
      "[nltk_data]   Package wordnet is already up-to-date!\n",
      "[nltk_data] Downloading package omw-1.4 to\n",
      "[nltk_data]     C:\\Users\\Ulli\\AppData\\Roaming\\nltk_data...\n",
      "[nltk_data]   Package omw-1.4 is already up-to-date!\n",
      "[nltk_data] Downloading package averaged_perceptron_tagger to\n",
      "[nltk_data]     C:\\Users\\Ulli\\AppData\\Roaming\\nltk_data...\n",
      "[nltk_data]   Package averaged_perceptron_tagger is already up-to-\n",
      "[nltk_data]       date!\n"
     ]
    },
    {
     "data": {
      "text/plain": [
       "True"
      ]
     },
     "execution_count": 1,
     "metadata": {},
     "output_type": "execute_result"
    }
   ],
   "source": [
    "# settings, imports & downloads\n",
    "\n",
    "import pandas as pd\n",
    "import os\n",
    "from bs4 import BeautifulSoup\n",
    "import re\n",
    "import numpy as np\n",
    "import nltk\n",
    "import matplotlib.pyplot as plt\n",
    "from textblob_de import TextBlobDE as TextBlob\n",
    "nltk.download('punkt')\n",
    "\n",
    "nltk.download(\"stopwords\")\n",
    "nltk.download(\"wordnet\")\n",
    "nltk.download(\"omw-1.4\")\n",
    "nltk.download(\"averaged_perceptron_tagger\")"
   ]
  },
  {
   "cell_type": "markdown",
   "id": "2f6bf94c",
   "metadata": {},
   "source": [
    "### 2. Einlesen der Daten"
   ]
  },
  {
   "cell_type": "markdown",
   "id": "59b5677f",
   "metadata": {},
   "source": [
    "#### 2.1. Plenarprotokolle"
   ]
  },
  {
   "cell_type": "code",
   "execution_count": 2,
   "id": "224fe94e",
   "metadata": {},
   "outputs": [],
   "source": [
    "# read xml files\n",
    "folder_path = \"data\"\n",
    "files_in_folder = os.listdir(folder_path)\n",
    "\n",
    "result = []\n",
    "\n",
    "for file in files_in_folder:\n",
    "    soup = BeautifulSoup(open(folder_path + \"/\" + file, \"r\", encoding=\"utf-8\"), \"xml\")\n",
    "    d = {}\n",
    "    for tag in soup.find_all(recursive=True):\n",
    "        d[tag.name] = tag.get_text(strip=True)\n",
    "        result.append(d)\n",
    "        \n",
    "df = pd.DataFrame(result) # write in dataframe\n",
    "df = df.drop_duplicates() # remove duplicated rows from dataframe\n",
    "df = df.drop(columns = \"DOKUMENT\") # remove redundant column"
   ]
  },
  {
   "cell_type": "code",
   "execution_count": 3,
   "id": "7ddb02fa",
   "metadata": {},
   "outputs": [
    {
     "data": {
      "text/html": [
       "<div>\n",
       "<style scoped>\n",
       "    .dataframe tbody tr th:only-of-type {\n",
       "        vertical-align: middle;\n",
       "    }\n",
       "\n",
       "    .dataframe tbody tr th {\n",
       "        vertical-align: top;\n",
       "    }\n",
       "\n",
       "    .dataframe thead th {\n",
       "        text-align: right;\n",
       "    }\n",
       "</style>\n",
       "<table border=\"1\" class=\"dataframe\">\n",
       "  <thead>\n",
       "    <tr style=\"text-align: right;\">\n",
       "      <th></th>\n",
       "      <th>WAHLPERIODE</th>\n",
       "      <th>DOKUMENTART</th>\n",
       "      <th>NR</th>\n",
       "      <th>DATUM</th>\n",
       "      <th>TITEL</th>\n",
       "      <th>TEXT</th>\n",
       "    </tr>\n",
       "  </thead>\n",
       "  <tbody>\n",
       "    <tr>\n",
       "      <th>0</th>\n",
       "      <td>15</td>\n",
       "      <td>PLENARPROTOKOLL</td>\n",
       "      <td>15/1</td>\n",
       "      <td>17.10.2002</td>\n",
       "      <td>Plenarprotokoll vom 17.10.2002</td>\n",
       "      <td>Tagesordnungspunkt 1:\\nEröffnung der Sitzung d...</td>\n",
       "    </tr>\n",
       "    <tr>\n",
       "      <th>7</th>\n",
       "      <td>15</td>\n",
       "      <td>PLENARPROTOKOLL</td>\n",
       "      <td>15/2</td>\n",
       "      <td>22.10.2002</td>\n",
       "      <td>Plenarprotokoll vom 22.10.2002</td>\n",
       "      <td>Tagesordnungspunkt 1:\\nWahl des Bundeskanzlers...</td>\n",
       "    </tr>\n",
       "    <tr>\n",
       "      <th>14</th>\n",
       "      <td>15</td>\n",
       "      <td>PLENARPROTOKOLL</td>\n",
       "      <td>15/3</td>\n",
       "      <td>23.10.2002</td>\n",
       "      <td>Plenarprotokoll vom 23.10.2002</td>\n",
       "      <td>Tagesordnungspunkt 5:\\n\\nBeratung und Beschlus...</td>\n",
       "    </tr>\n",
       "    <tr>\n",
       "      <th>21</th>\n",
       "      <td>15</td>\n",
       "      <td>PLENARPROTOKOLL</td>\n",
       "      <td>15/4</td>\n",
       "      <td>29.10.2002</td>\n",
       "      <td>Plenarprotokoll vom 29.10.2002</td>\n",
       "      <td>Tagesordnungspunkt 1:\\nRegierungserklärung des...</td>\n",
       "    </tr>\n",
       "    <tr>\n",
       "      <th>28</th>\n",
       "      <td>15</td>\n",
       "      <td>PLENARPROTOKOLL</td>\n",
       "      <td>15/5</td>\n",
       "      <td>30.10.2002</td>\n",
       "      <td>Plenarprotokoll vom 30.10.2002</td>\n",
       "      <td>Erweiterung der Tagesordnung  . . . . . . . . ...</td>\n",
       "    </tr>\n",
       "    <tr>\n",
       "      <th>...</th>\n",
       "      <td>...</td>\n",
       "      <td>...</td>\n",
       "      <td>...</td>\n",
       "      <td>...</td>\n",
       "      <td>...</td>\n",
       "      <td>...</td>\n",
       "    </tr>\n",
       "    <tr>\n",
       "      <th>4669</th>\n",
       "      <td>17</td>\n",
       "      <td>PLENARPROTOKOLL</td>\n",
       "      <td>17/249</td>\n",
       "      <td>26.06.2013</td>\n",
       "      <td>Plenarprotokoll vom 26.06.2013</td>\n",
       "      <td>Plenarprotokoll 17/249\\nDeutscher Bundestag\\nS...</td>\n",
       "    </tr>\n",
       "    <tr>\n",
       "      <th>4676</th>\n",
       "      <td>17</td>\n",
       "      <td>PLENARPROTOKOLL</td>\n",
       "      <td>17/250</td>\n",
       "      <td>27.06.2013</td>\n",
       "      <td>Plenarprotokoll vom 27.06.2013</td>\n",
       "      <td>Plenarprotokoll 17/250Plenarprotokoll 17/250\\n...</td>\n",
       "    </tr>\n",
       "    <tr>\n",
       "      <th>4683</th>\n",
       "      <td>17</td>\n",
       "      <td>PLENARPROTOKOLL</td>\n",
       "      <td>17/251</td>\n",
       "      <td>28.06.2013</td>\n",
       "      <td>Plenarprotokoll vom 28.06.2013</td>\n",
       "      <td>Plenarprotokoll 17/251\\nDeutscher Bundestag\\nS...</td>\n",
       "    </tr>\n",
       "    <tr>\n",
       "      <th>4690</th>\n",
       "      <td>17</td>\n",
       "      <td>PLENARPROTOKOLL</td>\n",
       "      <td>17/252</td>\n",
       "      <td>02.09.2013</td>\n",
       "      <td>Plenarprotokoll vom 02.09.2013</td>\n",
       "      <td>Plenarprotokoll 17/252\\nDeutscher Bundestag\\nS...</td>\n",
       "    </tr>\n",
       "    <tr>\n",
       "      <th>4697</th>\n",
       "      <td>17</td>\n",
       "      <td>PLENARPROTOKOLL</td>\n",
       "      <td>17/253</td>\n",
       "      <td>03.09.2013</td>\n",
       "      <td>Plenarprotokoll vom 03.09.2013</td>\n",
       "      <td>Plenarprotokoll 17/253\\nDeutscher Bundestag\\nS...</td>\n",
       "    </tr>\n",
       "  </tbody>\n",
       "</table>\n",
       "<p>672 rows × 6 columns</p>\n",
       "</div>"
      ],
      "text/plain": [
       "     WAHLPERIODE      DOKUMENTART      NR       DATUM  \\\n",
       "0             15  PLENARPROTOKOLL    15/1  17.10.2002   \n",
       "7             15  PLENARPROTOKOLL    15/2  22.10.2002   \n",
       "14            15  PLENARPROTOKOLL    15/3  23.10.2002   \n",
       "21            15  PLENARPROTOKOLL    15/4  29.10.2002   \n",
       "28            15  PLENARPROTOKOLL    15/5  30.10.2002   \n",
       "...          ...              ...     ...         ...   \n",
       "4669          17  PLENARPROTOKOLL  17/249  26.06.2013   \n",
       "4676          17  PLENARPROTOKOLL  17/250  27.06.2013   \n",
       "4683          17  PLENARPROTOKOLL  17/251  28.06.2013   \n",
       "4690          17  PLENARPROTOKOLL  17/252  02.09.2013   \n",
       "4697          17  PLENARPROTOKOLL  17/253  03.09.2013   \n",
       "\n",
       "                               TITEL  \\\n",
       "0     Plenarprotokoll vom 17.10.2002   \n",
       "7     Plenarprotokoll vom 22.10.2002   \n",
       "14    Plenarprotokoll vom 23.10.2002   \n",
       "21    Plenarprotokoll vom 29.10.2002   \n",
       "28    Plenarprotokoll vom 30.10.2002   \n",
       "...                              ...   \n",
       "4669  Plenarprotokoll vom 26.06.2013   \n",
       "4676  Plenarprotokoll vom 27.06.2013   \n",
       "4683  Plenarprotokoll vom 28.06.2013   \n",
       "4690  Plenarprotokoll vom 02.09.2013   \n",
       "4697  Plenarprotokoll vom 03.09.2013   \n",
       "\n",
       "                                                   TEXT  \n",
       "0     Tagesordnungspunkt 1:\\nEröffnung der Sitzung d...  \n",
       "7     Tagesordnungspunkt 1:\\nWahl des Bundeskanzlers...  \n",
       "14    Tagesordnungspunkt 5:\\n\\nBeratung und Beschlus...  \n",
       "21    Tagesordnungspunkt 1:\\nRegierungserklärung des...  \n",
       "28    Erweiterung der Tagesordnung  . . . . . . . . ...  \n",
       "...                                                 ...  \n",
       "4669  Plenarprotokoll 17/249\\nDeutscher Bundestag\\nS...  \n",
       "4676  Plenarprotokoll 17/250Plenarprotokoll 17/250\\n...  \n",
       "4683  Plenarprotokoll 17/251\\nDeutscher Bundestag\\nS...  \n",
       "4690  Plenarprotokoll 17/252\\nDeutscher Bundestag\\nS...  \n",
       "4697  Plenarprotokoll 17/253\\nDeutscher Bundestag\\nS...  \n",
       "\n",
       "[672 rows x 6 columns]"
      ]
     },
     "execution_count": 3,
     "metadata": {},
     "output_type": "execute_result"
    }
   ],
   "source": [
    "df"
   ]
  },
  {
   "cell_type": "markdown",
   "id": "fdc3de4b",
   "metadata": {},
   "source": [
    "#### 2.2. Stammdaten "
   ]
  },
  {
   "cell_type": "code",
   "execution_count": 4,
   "id": "b6af92b4",
   "metadata": {},
   "outputs": [],
   "source": [
    "gender_df = pd.read_csv(\"DIS25_liste_gender.csv\", delimiter=\";\") # read csv file of the names, parties and genders\n",
    "# transform into lists\n",
    "names = gender_df[\"Vorname_Nachname\"].tolist()\n",
    "geschlechter = gender_df[\"Geschlecht\"].tolist()\n",
    "partei = gender_df[\"Fraktion\"].tolist()"
   ]
  },
  {
   "cell_type": "code",
   "execution_count": 5,
   "id": "aadf7331",
   "metadata": {},
   "outputs": [
    {
     "data": {
      "text/html": [
       "<div>\n",
       "<style scoped>\n",
       "    .dataframe tbody tr th:only-of-type {\n",
       "        vertical-align: middle;\n",
       "    }\n",
       "\n",
       "    .dataframe tbody tr th {\n",
       "        vertical-align: top;\n",
       "    }\n",
       "\n",
       "    .dataframe thead th {\n",
       "        text-align: right;\n",
       "    }\n",
       "</style>\n",
       "<table border=\"1\" class=\"dataframe\">\n",
       "  <thead>\n",
       "    <tr style=\"text-align: right;\">\n",
       "      <th></th>\n",
       "      <th>Vorname_Nachname</th>\n",
       "      <th>Nachname</th>\n",
       "      <th>Vorname</th>\n",
       "      <th>Geschlecht</th>\n",
       "      <th>Fraktion</th>\n",
       "    </tr>\n",
       "  </thead>\n",
       "  <tbody>\n",
       "    <tr>\n",
       "      <th>0</th>\n",
       "      <td>Jens Ackermann</td>\n",
       "      <td>Ackermann</td>\n",
       "      <td>Jens</td>\n",
       "      <td>m</td>\n",
       "      <td>FDP</td>\n",
       "    </tr>\n",
       "    <tr>\n",
       "      <th>1</th>\n",
       "      <td>Christian Ahrendt</td>\n",
       "      <td>Ahrendt</td>\n",
       "      <td>Christian</td>\n",
       "      <td>m</td>\n",
       "      <td>FDP</td>\n",
       "    </tr>\n",
       "    <tr>\n",
       "      <th>2</th>\n",
       "      <td>Ilse Aigner</td>\n",
       "      <td>Aigner</td>\n",
       "      <td>Ilse</td>\n",
       "      <td>f</td>\n",
       "      <td>CDU/CSU</td>\n",
       "    </tr>\n",
       "    <tr>\n",
       "      <th>3</th>\n",
       "      <td>Jan van Aken</td>\n",
       "      <td>van Aken</td>\n",
       "      <td>Jan</td>\n",
       "      <td>m</td>\n",
       "      <td>DIE LINKE</td>\n",
       "    </tr>\n",
       "    <tr>\n",
       "      <th>4</th>\n",
       "      <td>Agnes Alpers</td>\n",
       "      <td>Alpers</td>\n",
       "      <td>Agnes</td>\n",
       "      <td>f</td>\n",
       "      <td>DIE LINKE</td>\n",
       "    </tr>\n",
       "    <tr>\n",
       "      <th>...</th>\n",
       "      <td>...</td>\n",
       "      <td>...</td>\n",
       "      <td>...</td>\n",
       "      <td>...</td>\n",
       "      <td>...</td>\n",
       "    </tr>\n",
       "    <tr>\n",
       "      <th>647</th>\n",
       "      <td>Sabine Zimmermann</td>\n",
       "      <td>Zimmermann</td>\n",
       "      <td>Sabine</td>\n",
       "      <td>f</td>\n",
       "      <td>DIE LINKE</td>\n",
       "    </tr>\n",
       "    <tr>\n",
       "      <th>648</th>\n",
       "      <td>Wolfgang Zöller</td>\n",
       "      <td>Zöller</td>\n",
       "      <td>Wolfgang</td>\n",
       "      <td>m</td>\n",
       "      <td>CDU/CSU</td>\n",
       "    </tr>\n",
       "    <tr>\n",
       "      <th>649</th>\n",
       "      <td>Manfred Helmut Zöllmer</td>\n",
       "      <td>Zöllmer</td>\n",
       "      <td>Manfred Helmut</td>\n",
       "      <td>m</td>\n",
       "      <td>SPD</td>\n",
       "    </tr>\n",
       "    <tr>\n",
       "      <th>650</th>\n",
       "      <td>Willi Zylajew</td>\n",
       "      <td>Zylajew</td>\n",
       "      <td>Willi</td>\n",
       "      <td>m</td>\n",
       "      <td>CDU/CSU</td>\n",
       "    </tr>\n",
       "    <tr>\n",
       "      <th>651</th>\n",
       "      <td>Brigitte Zypries</td>\n",
       "      <td>Zypries</td>\n",
       "      <td>Brigitte</td>\n",
       "      <td>f</td>\n",
       "      <td>SPD</td>\n",
       "    </tr>\n",
       "  </tbody>\n",
       "</table>\n",
       "<p>652 rows × 5 columns</p>\n",
       "</div>"
      ],
      "text/plain": [
       "           Vorname_Nachname    Nachname         Vorname Geschlecht   Fraktion\n",
       "0            Jens Ackermann   Ackermann            Jens          m        FDP\n",
       "1         Christian Ahrendt     Ahrendt       Christian          m        FDP\n",
       "2               Ilse Aigner      Aigner            Ilse          f    CDU/CSU\n",
       "3              Jan van Aken    van Aken             Jan          m  DIE LINKE\n",
       "4              Agnes Alpers      Alpers           Agnes          f  DIE LINKE\n",
       "..                      ...         ...             ...        ...        ...\n",
       "647       Sabine Zimmermann  Zimmermann          Sabine          f  DIE LINKE\n",
       "648         Wolfgang Zöller      Zöller        Wolfgang          m    CDU/CSU\n",
       "649  Manfred Helmut Zöllmer     Zöllmer  Manfred Helmut          m        SPD\n",
       "650           Willi Zylajew     Zylajew           Willi          m    CDU/CSU\n",
       "651        Brigitte Zypries     Zypries        Brigitte          f        SPD\n",
       "\n",
       "[652 rows x 5 columns]"
      ]
     },
     "execution_count": 5,
     "metadata": {},
     "output_type": "execute_result"
    }
   ],
   "source": [
    "gender_df"
   ]
  },
  {
   "cell_type": "markdown",
   "id": "28fcd123",
   "metadata": {},
   "source": [
    "### 3. Datentransformation  \n",
    "Der Protokolltext wird in eine neue Spalte `TEXT_SPLIT` übertragen. Der eigentliche Protokollinhalt beginnt bei `Beginn` und endet bei `Schluss`. Anhand dieser Merkmale wird der Text getrennt. "
   ]
  },
  {
   "cell_type": "code",
   "execution_count": 6,
   "id": "e1d164f6",
   "metadata": {},
   "outputs": [],
   "source": [
    "# split column \"TEXT\" and add only the important text into new column and the participants\n",
    "conversation = []\n",
    "pattern_start = \"Beginn:\"\n",
    "pattern_end = \"Schluss:\"\n",
    "\n",
    "for row in df[\"TEXT\"]:\n",
    "    rowstr = str(row).split(pattern_start)\n",
    "    conversation.append(rowstr[1])\n",
    "\n",
    "df[\"TEXT_SPLIT\"] = conversation"
   ]
  },
  {
   "cell_type": "markdown",
   "id": "30d215c5",
   "metadata": {},
   "source": [
    "Die Spalte `TEXT_SPLIT` wird zu Beginn gereinigt, indem Absätze und doppelte Leerzeichen und einige Titel entfernt werden."
   ]
  },
  {
   "cell_type": "code",
   "execution_count": 7,
   "id": "89419914",
   "metadata": {},
   "outputs": [],
   "source": [
    "# clean data\n",
    "df[\"TEXT_SPLIT\"] = df.apply(lambda row: re.sub(\"(\\n)|(\\r)|(\\s+)\", \" \", row[\"TEXT_SPLIT\"]), axis=1) # remove returns in data\n",
    "df[\"TEXT_SPLIT\"] = df.apply(lambda row: re.sub(\"-\\s\", \"\", row[\"TEXT_SPLIT\"]), axis=1) # remove separate words with hyphen"
   ]
  },
  {
   "cell_type": "markdown",
   "id": "b0a74569",
   "metadata": {},
   "source": [
    "#### 3.1. Erstellen eines Sub-Dataframes zur Erweiterung der Daten\n",
    "Die Textdaten werden in weitere Spalten untergliedert, die den Redebeitrag, die vortragende Person sowie die Unterbrechung beinhalten."
   ]
  },
  {
   "cell_type": "code",
   "execution_count": 8,
   "id": "b9e59858",
   "metadata": {},
   "outputs": [],
   "source": [
    "# write the components of speaker, speech and interruption\n",
    "Sub = set() # only unique values in set to avoid the same text with different name\n",
    "\n",
    "for row in df[\"TEXT_SPLIT\"]:\n",
    "    for i in names:\n",
    "        x = str(i) + \":\"\n",
    "        if x in row:\n",
    "            name = x\n",
    "            start = str(row).index(name) # speach starts with name + : \n",
    "            end = row.index(\")\", start+1) # speach ends when first interruption starts in brackets \n",
    "            substring = row[start-1:end+1]\n",
    "            Sub.add(substring)\n",
    "        else:\n",
    "            # if the substring has no name in it, it is the speach of the speaker before the new substring\n",
    "            # because sometimes the speach will go on without calling the name in the protocol again\n",
    "            start = str(row).index(\")\") # speach starts with closed brackets\n",
    "            end = row.index(\")\", start+1) # speach ends when second interruption starts in brackets \n",
    "            substring = row[start+2:end+1] # substring without name\n",
    "            if len(Sub) > 0:\n",
    "                last_element = str(list(Sub)[-1]) # last speach element of Sub\n",
    "                if name in last_element:\n",
    "                    substring = name + substring # concatenate name of last speaker + speach \n",
    "                    if substring not in Sub:\n",
    "                        Sub.add(substring)\n",
    "                        \n",
    "Sub = list(Sub)"
   ]
  },
  {
   "cell_type": "code",
   "execution_count": 9,
   "id": "ac2aa5c2",
   "metadata": {},
   "outputs": [
    {
     "data": {
      "text/plain": [
       "3303"
      ]
     },
     "execution_count": 9,
     "metadata": {},
     "output_type": "execute_result"
    }
   ],
   "source": [
    "len(Sub)"
   ]
  },
  {
   "cell_type": "markdown",
   "id": "77ef7566",
   "metadata": {},
   "source": [
    "Subdataframe wird in einem neuen Dataframe verbunden. "
   ]
  },
  {
   "cell_type": "code",
   "execution_count": 10,
   "id": "0b8c5aa4",
   "metadata": {},
   "outputs": [],
   "source": [
    "# split the components and write into new dataframe\n",
    "data = pd.DataFrame()\n",
    "Redebeitrag = []\n",
    "Person = []\n",
    "Unterbrechung = []\n",
    "\n",
    "for x in Sub:\n",
    "    string = re.split(\":\", str(x), 1) # split where : is\n",
    "    string1 = re.split(\"\\\\(|\\\\)\", str(string[1])) # split interruption when in brackets\n",
    "    Person.append(string[0])\n",
    "    Redebeitrag.append(string1[0])\n",
    "    Unterbrechung.append(string1[1])\n",
    "\n",
    "data[\"Redeinhalt\"] = Redebeitrag\n",
    "data[\"Vortragende_Person\"] = Person\n",
    "data[\"Unterbrechung\"] = Unterbrechung"
   ]
  },
  {
   "cell_type": "code",
   "execution_count": 11,
   "id": "d46339c8",
   "metadata": {},
   "outputs": [],
   "source": [
    "# drop columns where interruption is party\n",
    "for unterbrechung in data[\"Unterbrechung\"]:\n",
    "    for p in partei:\n",
    "        data.drop(data.index[data[\"Unterbrechung\"] == p], inplace = True)"
   ]
  },
  {
   "cell_type": "code",
   "execution_count": 12,
   "id": "699175d2",
   "metadata": {},
   "outputs": [],
   "source": [
    "# sometimes before interruption text, something happens - the person starts talking then after \"-\"\n",
    "char = \"–\"\n",
    "pattern  = \".*\" + char  # Regex pattern to match all characters on and before '-'\n",
    "clean_unterhaltung = []\n",
    "\n",
    "for row in data[\"Unterbrechung\"]:\n",
    "    if re.findall(pattern, row):\n",
    "        clean_str = re.sub(pattern, \"\", row) # remove all characters before the character '-' from string \n",
    "        clean_unterhaltung.append(clean_str)\n",
    "    else:\n",
    "        clean_unterhaltung.append(row)\n",
    "        \n",
    "data[\"Unterbrechung\"] = clean_unterhaltung"
   ]
  },
  {
   "cell_type": "code",
   "execution_count": 13,
   "id": "3d71cf2a",
   "metadata": {},
   "outputs": [],
   "source": [
    "# split the interruption-components and add to dataframe\n",
    "pers_unter = []\n",
    "rede_unter = []\n",
    "partei_unter = []\n",
    "\n",
    "for row in data[\"Unterbrechung\"]:\n",
    "    if re.findall(r\":\", row):\n",
    "        string = re.split(':', str(row))\n",
    "        str_pers = re.split(\"\\[\\w+.*\\/?\\w*?.\\w*\\]$\", string[0])\n",
    "        str_part = re.findall(\"\\[\\w+.*\\/?\\w*?.\\w*\\]$\", string[0])\n",
    "        if len(str_part) > 0:\n",
    "            str_part = re.sub(\"\\[?\\]?\", \"\", str_part[0]) # remove [] brackets\n",
    "        pers_unter.append(str_pers[0])\n",
    "        rede_unter.append(string[1])\n",
    "        partei_unter.append(str_part)\n",
    "    else:\n",
    "        pers_unter.append(\"\") # add NULL if no person interrupts\n",
    "        partei_unter.append(\"\")\n",
    "        rede_unter.append(\"\")\n",
    "\n",
    "data[\"Person_Unterbrechung\"] = pers_unter\n",
    "data[\"Partei_Unterbrechung\"] = partei_unter\n",
    "data[\"Redeinhalt_Unterbrechung\"] = rede_unter"
   ]
  },
  {
   "cell_type": "code",
   "execution_count": 14,
   "id": "ab7a6a5b",
   "metadata": {},
   "outputs": [
    {
     "data": {
      "text/html": [
       "<div>\n",
       "<style scoped>\n",
       "    .dataframe tbody tr th:only-of-type {\n",
       "        vertical-align: middle;\n",
       "    }\n",
       "\n",
       "    .dataframe tbody tr th {\n",
       "        vertical-align: top;\n",
       "    }\n",
       "\n",
       "    .dataframe thead th {\n",
       "        text-align: right;\n",
       "    }\n",
       "</style>\n",
       "<table border=\"1\" class=\"dataframe\">\n",
       "  <thead>\n",
       "    <tr style=\"text-align: right;\">\n",
       "      <th></th>\n",
       "      <th>Redeinhalt</th>\n",
       "      <th>Vortragende_Person</th>\n",
       "      <th>Unterbrechung</th>\n",
       "      <th>Person_Unterbrechung</th>\n",
       "      <th>Partei_Unterbrechung</th>\n",
       "      <th>Redeinhalt_Unterbrechung</th>\n",
       "    </tr>\n",
       "  </thead>\n",
       "  <tbody>\n",
       "    <tr>\n",
       "      <th>0</th>\n",
       "      <td>Interfraktionell ist vereinbart worden, die ve...</td>\n",
       "      <td>Wolfgang Thierse</td>\n",
       "      <td>Vermittlungsausschuss</td>\n",
       "      <td></td>\n",
       "      <td></td>\n",
       "      <td></td>\n",
       "    </tr>\n",
       "    <tr>\n",
       "      <th>1</th>\n",
       "      <td>Mit tiefer Betroffenheit haben wir erfahren, ...</td>\n",
       "      <td>Wolfgang Thierse</td>\n",
       "      <td></td>\n",
       "      <td></td>\n",
       "      <td></td>\n",
       "      <td></td>\n",
       "    </tr>\n",
       "    <tr>\n",
       "      <th>5</th>\n",
       "      <td>Herr Kollege Reichel, das war Ihre erste Rede...</td>\n",
       "      <td>Gerda Hasselfeldt</td>\n",
       "      <td>Beifall</td>\n",
       "      <td></td>\n",
       "      <td></td>\n",
       "      <td></td>\n",
       "    </tr>\n",
       "    <tr>\n",
       "      <th>7</th>\n",
       "      <td>Guten Morgen, liebe Kolleginnen und Kollegen!...</td>\n",
       "      <td>Wolfgang Thierse</td>\n",
       "      <td>Die Anwesenden erheben sich</td>\n",
       "      <td></td>\n",
       "      <td></td>\n",
       "      <td></td>\n",
       "    </tr>\n",
       "    <tr>\n",
       "      <th>8</th>\n",
       "      <td>Guten Morgen, liebe Kolleginnen und Kollegen!...</td>\n",
       "      <td>Susanne Kastner</td>\n",
       "      <td></td>\n",
       "      <td></td>\n",
       "      <td></td>\n",
       "      <td></td>\n",
       "    </tr>\n",
       "    <tr>\n",
       "      <th>...</th>\n",
       "      <td>...</td>\n",
       "      <td>...</td>\n",
       "      <td>...</td>\n",
       "      <td>...</td>\n",
       "      <td>...</td>\n",
       "      <td>...</td>\n",
       "    </tr>\n",
       "    <tr>\n",
       "      <th>3296</th>\n",
       "      <td>Ist die Bundesregierung angesichts der andau...</td>\n",
       "      <td>Inge Höger</td>\n",
       "      <td>Anhaltender Beifall bei der LINKEN</td>\n",
       "      <td></td>\n",
       "      <td></td>\n",
       "      <td></td>\n",
       "    </tr>\n",
       "    <tr>\n",
       "      <th>3297</th>\n",
       "      <td>Auf welcher Grundlage hat die Bundesregierung...</td>\n",
       "      <td>Wolfgang Wieland</td>\n",
       "      <td>vergleiche den „Hauptstadtbrief“ Nr. 72 vom De...</td>\n",
       "      <td></td>\n",
       "      <td></td>\n",
       "      <td></td>\n",
       "    </tr>\n",
       "    <tr>\n",
       "      <th>3299</th>\n",
       "      <td>ZP 2 Weitere Überweisungen im vereinfachten V...</td>\n",
       "      <td>Wolfgang Thierse</td>\n",
       "      <td></td>\n",
       "      <td></td>\n",
       "      <td></td>\n",
       "      <td></td>\n",
       "    </tr>\n",
       "    <tr>\n",
       "      <th>3300</th>\n",
       "      <td>Die Sitzung ist eröffnet. Liebe Kolleginnen u...</td>\n",
       "      <td>Norbert Lammert</td>\n",
       "      <td>Renate Künast [BÜNDNIS 90/DIE GRÜNEN]: Er fei...</td>\n",
       "      <td>Renate Künast</td>\n",
       "      <td>BÜNDNIS 90/DIE GRÜNEN</td>\n",
       "      <td>Er feiert noch!</td>\n",
       "    </tr>\n",
       "    <tr>\n",
       "      <th>3302</th>\n",
       "      <td>Guten Morgen, liebe Kolleginnen und Kollegen!...</td>\n",
       "      <td>Wolfgang Thierse</td>\n",
       "      <td>Salzgitter</td>\n",
       "      <td></td>\n",
       "      <td></td>\n",
       "      <td></td>\n",
       "    </tr>\n",
       "  </tbody>\n",
       "</table>\n",
       "<p>2476 rows × 6 columns</p>\n",
       "</div>"
      ],
      "text/plain": [
       "                                             Redeinhalt  Vortragende_Person  \\\n",
       "0     Interfraktionell ist vereinbart worden, die ve...    Wolfgang Thierse   \n",
       "1      Mit tiefer Betroffenheit haben wir erfahren, ...    Wolfgang Thierse   \n",
       "5      Herr Kollege Reichel, das war Ihre erste Rede...   Gerda Hasselfeldt   \n",
       "7      Guten Morgen, liebe Kolleginnen und Kollegen!...    Wolfgang Thierse   \n",
       "8      Guten Morgen, liebe Kolleginnen und Kollegen!...     Susanne Kastner   \n",
       "...                                                 ...                 ...   \n",
       "3296    Ist die Bundesregierung angesichts der andau...          Inge Höger   \n",
       "3297   Auf welcher Grundlage hat die Bundesregierung...    Wolfgang Wieland   \n",
       "3299   ZP 2 Weitere Überweisungen im vereinfachten V...    Wolfgang Thierse   \n",
       "3300   Die Sitzung ist eröffnet. Liebe Kolleginnen u...     Norbert Lammert   \n",
       "3302   Guten Morgen, liebe Kolleginnen und Kollegen!...    Wolfgang Thierse   \n",
       "\n",
       "                                          Unterbrechung Person_Unterbrechung  \\\n",
       "0                                 Vermittlungsausschuss                        \n",
       "1                                                                              \n",
       "5                                               Beifall                        \n",
       "7                           Die Anwesenden erheben sich                        \n",
       "8                                                                              \n",
       "...                                                 ...                  ...   \n",
       "3296                 Anhaltender Beifall bei der LINKEN                        \n",
       "3297  vergleiche den „Hauptstadtbrief“ Nr. 72 vom De...                        \n",
       "3299                                                                           \n",
       "3300   Renate Künast [BÜNDNIS 90/DIE GRÜNEN]: Er fei...       Renate Künast    \n",
       "3302                                         Salzgitter                        \n",
       "\n",
       "       Partei_Unterbrechung Redeinhalt_Unterbrechung  \n",
       "0                                                     \n",
       "1                                                     \n",
       "5                                                     \n",
       "7                                                     \n",
       "8                                                     \n",
       "...                     ...                      ...  \n",
       "3296                                                  \n",
       "3297                                                  \n",
       "3299                                                  \n",
       "3300  BÜNDNIS 90/DIE GRÜNEN          Er feiert noch!  \n",
       "3302                                                  \n",
       "\n",
       "[2476 rows x 6 columns]"
      ]
     },
     "execution_count": 14,
     "metadata": {},
     "output_type": "execute_result"
    }
   ],
   "source": [
    "# print new dataframe \n",
    "data"
   ]
  },
  {
   "cell_type": "markdown",
   "id": "6b122f97",
   "metadata": {},
   "source": [
    "#### 3.2. Datenbereinigung  \n",
    "Für eine genauere Zuordnung der Namen, Geschlechter und Fraktionen zu den Unterbrechungen, werden die Daten (erneut) in diesem Schritt bereinigt."
   ]
  },
  {
   "cell_type": "code",
   "execution_count": 15,
   "id": "bb0ed5a4",
   "metadata": {},
   "outputs": [],
   "source": [
    "# Cleaning person of interruption\n",
    "person_clean = []\n",
    "\n",
    "for person in data[\"Person_Unterbrechung\"]:\n",
    "    new_person = re.sub(\"Dr\\.|Prof\\.|Dr\\.\\sh\\.\\sc\\.|Präsident??|Bundesminister??|Alterspräsident??|Vizepräsident??|Gegenruf des Abg\\.|h\\. c\\.|Gegenruf der Abg\\.\", \"\", person) # remove title\n",
    "    new_person = re.sub(\"Financial Times Deutschland vom 28. September 2011; Spiegel Online\", \"0\", new_person)\n",
    "    new_person = new_person.strip() # remove leading and tailing whitespaces\n",
    "    new_person = re.sub(r'[^\\w\\s]', '', new_person) # remove punctuation\n",
    "    person_clean.append(new_person)\n",
    "\n",
    "data[\"Person_Unterbrechung\"] = person_clean"
   ]
  },
  {
   "cell_type": "code",
   "execution_count": 16,
   "id": "5c08431b",
   "metadata": {},
   "outputs": [
    {
     "data": {
      "text/plain": [
       "{'',\n",
       " '0',\n",
       " 'AZ',\n",
       " 'Alexander Dobrindt',\n",
       " 'Andreas Mattfeldt',\n",
       " 'Angelica SchwallDüren',\n",
       " 'Axel Troost',\n",
       " 'Aydan Özoğuz',\n",
       " 'Barbara Höll',\n",
       " 'Bartholomäus Kalb',\n",
       " 'Beifall bei der FDP  Birgitt Bender',\n",
       " 'Beifall bei der SPD  Torsten Staffeldt',\n",
       " 'Britta Haßelmann',\n",
       " 'Bärbel Kofler',\n",
       " 'CarlLudwig Thiele',\n",
       " 'Carsten Sieling',\n",
       " 'Christian Lange',\n",
       " 'Christian Lindner',\n",
       " 'Christian Ruck',\n",
       " 'Christine Scheel',\n",
       " 'Claudia Roth',\n",
       " 'Dagmar Enkelmann',\n",
       " 'Dagmar Freitag',\n",
       " 'Dieter Wiefelspütz',\n",
       " 'Dietrich Austermann',\n",
       " 'Dirk Niebel',\n",
       " 'Doris Barnett',\n",
       " 'Eckart von Klaeden',\n",
       " 'Eduard Oswald',\n",
       " 'Elke Ferner',\n",
       " 'Ernst Burgbacher',\n",
       " 'Ernst Hinsken',\n",
       " 'Florian Pronold',\n",
       " 'Franz Josef Jung',\n",
       " 'Fritz Kuhn',\n",
       " 'Gabriele HillerOhm',\n",
       " 'Garrelt Duin',\n",
       " 'Gegenruf von der FDP',\n",
       " 'Gegenrufe von der SPD',\n",
       " 'Georg Nüßlein',\n",
       " 'Georg Schirmbeck',\n",
       " 'Gernot Erler',\n",
       " 'Gesine Lötzsch',\n",
       " 'Guido Westerwelle',\n",
       " 'Guido Westerwelle r',\n",
       " 'Gustav Herzog',\n",
       " 'HansJoachim Otto',\n",
       " 'Hartmut Koschyk',\n",
       " 'Hartmut Schauerte',\n",
       " 'Heinrich L Kolb',\n",
       " 'HeinzPeter Haustein',\n",
       " 'Hermann E Ott',\n",
       " 'Herta DäublerGmelin',\n",
       " 'Horst Friedrich',\n",
       " 'Hubertus Heil',\n",
       " 'Iris Gleicke',\n",
       " 'Irmingard ScheweGerigk',\n",
       " 'Jens Spahn',\n",
       " 'Jerzy Montag',\n",
       " 'Johann Wadephul',\n",
       " 'Johannes Kahrs',\n",
       " 'Josef Philip Winkler',\n",
       " 'Joseph Fischer r',\n",
       " 'Jörg Tauss',\n",
       " 'Jörg van Essen',\n",
       " 'Jörn Wunderlich',\n",
       " 'Jürgen Koppelin',\n",
       " 'Jürgen Trittin',\n",
       " 'Kerstin Andreae',\n",
       " 'Klaus Brandner',\n",
       " 'Konrad Schily',\n",
       " 'Leo Dautzenberg',\n",
       " 'Lisa Paus',\n",
       " 'Ludwig Stiegler',\n",
       " 'Martin Burkert',\n",
       " 'Matthias Miersch',\n",
       " 'Michael Brand',\n",
       " 'Michael GrosseBrömer',\n",
       " 'Michael Roth',\n",
       " 'Michaela Noll',\n",
       " 'Ole Schröder',\n",
       " 'Otto Fricke',\n",
       " 'Patrick Kurth',\n",
       " 'Patrick Meinhardt',\n",
       " 'Paul Lehrieder',\n",
       " 'Paul Schäfer',\n",
       " 'Peter Dreßen',\n",
       " 'Peter Paziorek',\n",
       " 'Petra Müller',\n",
       " 'Petra Sitte',\n",
       " 'Philipp Mißfelder',\n",
       " 'Rainer Brüderle',\n",
       " 'Ralf Brauksiepe',\n",
       " 'Ralph Lenkert',\n",
       " 'Reinhard Grindel',\n",
       " 'Renate Künast',\n",
       " 'René Röspel',\n",
       " 'Rita Pawelski',\n",
       " 'Sebastian Edathy',\n",
       " 'Stefan Liebich',\n",
       " 'Stefan Müller',\n",
       " 'Stefan Ruppert',\n",
       " 'Steffen Kampeter',\n",
       " 'Sören Bartol',\n",
       " 'Thea Dückert',\n",
       " 'Thomas Oppermann',\n",
       " 'Thomas Rachel',\n",
       " 'Ulla Burchardt',\n",
       " 'Ulrich Kelber',\n",
       " 'Ute Kumpf',\n",
       " 'Uwe Barth',\n",
       " 'Uwe Beckmeyer',\n",
       " 'Uwe Küster',\n",
       " 'Volker Beck',\n",
       " 'Volker Kauder',\n",
       " 'Volker Schneider',\n",
       " 'Vorsitz',\n",
       " 'Weiterer Zuruf',\n",
       " 'Weiterer Zuruf von der CDUCSU',\n",
       " 'Weiterer Zuruf von der SPD',\n",
       " 'Wilhelm Schmidt',\n",
       " 'Winfried Hermann',\n",
       " 'Wolfgang Gehrcke',\n",
       " 'Wolfgang Gerhardt',\n",
       " 'Wolfgang Spanier',\n",
       " 'Wolfgang Wieland',\n",
       " 'Wolfgang Zöller',\n",
       " 'Zuruf',\n",
       " 'Zuruf vom BÜNDNIS 90DIE GRÜNEN',\n",
       " 'Zuruf von der CDUCSU',\n",
       " 'Zuruf von der FDP',\n",
       " 'Zuruf von der LINKEN',\n",
       " 'Zuruf von der SPD',\n",
       " 'Zurufe',\n",
       " 'Zurufe vom BÜNDNIS 90DIE GRÜNEN',\n",
       " 'Zurufe von der CDUCSU',\n",
       " 'Zurufe von der CDUCSU und der FDP',\n",
       " 'Zurufe von der LINKEN',\n",
       " 'Zurufe von der SPD',\n",
       " 'Zurufe von der SPD und dem BÜNDNIS 90 DIE GRÜNEN',\n",
       " 'Zurufe von der SPD und der FDP',\n",
       " 'http',\n",
       " 'stellvertretender Regierungssprecher Thomas Steg'}"
      ]
     },
     "execution_count": 16,
     "metadata": {},
     "output_type": "execute_result"
    }
   ],
   "source": [
    "test_clean_person = data[\"Person_Unterbrechung\"].tolist()\n",
    "set(test_clean_person)"
   ]
  },
  {
   "cell_type": "code",
   "execution_count": 17,
   "id": "fff22daa",
   "metadata": {},
   "outputs": [],
   "source": [
    "# Cleaning party from person of interruption\n",
    "party_clean = []\n",
    "\n",
    "for party in data[\"Partei_Unterbrechung\"]:\n",
    "    party = str(party)\n",
    "    new_party = re.sub(r\"\\/\\s\", \"/\", party) # remove whitespace after / \n",
    "    new_party = re.sub(\"Bayreuth|Backnang|Augsburg|Frankfurt|Heringen|Köln|Koblenz|Aachen|Peine|Erlangen|Kyffhäuser|Saarbrücken|Salzgitter\", \"\", new_party)\n",
    "    new_party = new_party.strip()\n",
    "    party_clean.append(new_party)\n",
    "\n",
    "data[\"Partei_Unterbrechung\"] = party_clean"
   ]
  },
  {
   "cell_type": "code",
   "execution_count": 18,
   "id": "5d9928cc",
   "metadata": {},
   "outputs": [
    {
     "data": {
      "text/plain": [
       "{'',\n",
       " 'Bayreuth FDP',\n",
       " 'BÜNDNIS 90/DIE GRÜNEN',\n",
       " 'CDU/CSU',\n",
       " 'DIE LINKE',\n",
       " 'FDP',\n",
       " 'Frankfurt FDP',\n",
       " 'Heringen SPD',\n",
       " 'SPD',\n",
       " 'Saarbrücken DIE LINKE',\n",
       " 'Salzgitter SPD',\n",
       " '[]',\n",
       " 'fraktionslos'}"
      ]
     },
     "execution_count": 18,
     "metadata": {},
     "output_type": "execute_result"
    }
   ],
   "source": [
    "test_clean_party = data[\"Partei_Unterbrechung\"].tolist()\n",
    "set(test_clean_party)"
   ]
  },
  {
   "cell_type": "markdown",
   "id": "dd1f6a2d",
   "metadata": {},
   "source": [
    "#### 3.3. Daten zusammenfügen\n",
    "Die Namen werden nun mit den Stammdaten abgeglichen und verschnitten, sodass die Geschlechter den jeweiligen Personen zugeordnet werden können."
   ]
  },
  {
   "cell_type": "code",
   "execution_count": 19,
   "id": "fe89e750",
   "metadata": {},
   "outputs": [],
   "source": [
    "data_clean = data"
   ]
  },
  {
   "cell_type": "code",
   "execution_count": 20,
   "id": "ebc01512",
   "metadata": {},
   "outputs": [],
   "source": [
    "# matching process to indetify gender\n",
    "gender_pers_speach = []\n",
    "\n",
    "for person in data_clean[\"Vortragende_Person\"]:\n",
    "    person = person.strip() # removing leading and trailing whitespaces\n",
    "    if person in names:\n",
    "        index = names.index(person)\n",
    "        geschlecht = geschlechter[index]\n",
    "        gender_pers_speach.append(geschlecht)\n",
    "    else:\n",
    "        gender_pers_speach.append(\"\")\n",
    "\n",
    "data_clean[\"Geschlecht_vort_Pers\"] = gender_pers_speach"
   ]
  },
  {
   "cell_type": "code",
   "execution_count": 21,
   "id": "4a735266",
   "metadata": {},
   "outputs": [],
   "source": [
    "gender_pers_interruption = []\n",
    "\n",
    "for person in data_clean[\"Person_Unterbrechung\"]:\n",
    "    person = person.strip() # removing leading and trainling whitespaces\n",
    "    if person in names:\n",
    "        index = names.index(person)\n",
    "        geschlecht = geschlechter[index]\n",
    "        gender_pers_interruption.append(geschlecht)\n",
    "    else:\n",
    "        gender_pers_interruption.append(\"\")\n",
    "        \n",
    "data_clean[\"Geschlecht_unterb_Pers\"] = gender_pers_interruption"
   ]
  },
  {
   "cell_type": "code",
   "execution_count": 22,
   "id": "51dfb67d",
   "metadata": {},
   "outputs": [
    {
     "data": {
      "text/html": [
       "<div>\n",
       "<style scoped>\n",
       "    .dataframe tbody tr th:only-of-type {\n",
       "        vertical-align: middle;\n",
       "    }\n",
       "\n",
       "    .dataframe tbody tr th {\n",
       "        vertical-align: top;\n",
       "    }\n",
       "\n",
       "    .dataframe thead th {\n",
       "        text-align: right;\n",
       "    }\n",
       "</style>\n",
       "<table border=\"1\" class=\"dataframe\">\n",
       "  <thead>\n",
       "    <tr style=\"text-align: right;\">\n",
       "      <th></th>\n",
       "      <th>Redeinhalt</th>\n",
       "      <th>Vortragende_Person</th>\n",
       "      <th>Unterbrechung</th>\n",
       "      <th>Person_Unterbrechung</th>\n",
       "      <th>Partei_Unterbrechung</th>\n",
       "      <th>Redeinhalt_Unterbrechung</th>\n",
       "      <th>Geschlecht_vort_Pers</th>\n",
       "      <th>Geschlecht_unterb_Pers</th>\n",
       "    </tr>\n",
       "  </thead>\n",
       "  <tbody>\n",
       "    <tr>\n",
       "      <th>0</th>\n",
       "      <td>Interfraktionell ist vereinbart worden, die ve...</td>\n",
       "      <td>Wolfgang Thierse</td>\n",
       "      <td>Vermittlungsausschuss</td>\n",
       "      <td></td>\n",
       "      <td></td>\n",
       "      <td></td>\n",
       "      <td>m</td>\n",
       "      <td></td>\n",
       "    </tr>\n",
       "    <tr>\n",
       "      <th>1</th>\n",
       "      <td>Mit tiefer Betroffenheit haben wir erfahren, ...</td>\n",
       "      <td>Wolfgang Thierse</td>\n",
       "      <td></td>\n",
       "      <td></td>\n",
       "      <td></td>\n",
       "      <td></td>\n",
       "      <td>m</td>\n",
       "      <td></td>\n",
       "    </tr>\n",
       "    <tr>\n",
       "      <th>5</th>\n",
       "      <td>Herr Kollege Reichel, das war Ihre erste Rede...</td>\n",
       "      <td>Gerda Hasselfeldt</td>\n",
       "      <td>Beifall</td>\n",
       "      <td></td>\n",
       "      <td></td>\n",
       "      <td></td>\n",
       "      <td>f</td>\n",
       "      <td></td>\n",
       "    </tr>\n",
       "    <tr>\n",
       "      <th>7</th>\n",
       "      <td>Guten Morgen, liebe Kolleginnen und Kollegen!...</td>\n",
       "      <td>Wolfgang Thierse</td>\n",
       "      <td>Die Anwesenden erheben sich</td>\n",
       "      <td></td>\n",
       "      <td></td>\n",
       "      <td></td>\n",
       "      <td>m</td>\n",
       "      <td></td>\n",
       "    </tr>\n",
       "    <tr>\n",
       "      <th>8</th>\n",
       "      <td>Guten Morgen, liebe Kolleginnen und Kollegen!...</td>\n",
       "      <td>Susanne Kastner</td>\n",
       "      <td></td>\n",
       "      <td></td>\n",
       "      <td></td>\n",
       "      <td></td>\n",
       "      <td>f</td>\n",
       "      <td></td>\n",
       "    </tr>\n",
       "    <tr>\n",
       "      <th>...</th>\n",
       "      <td>...</td>\n",
       "      <td>...</td>\n",
       "      <td>...</td>\n",
       "      <td>...</td>\n",
       "      <td>...</td>\n",
       "      <td>...</td>\n",
       "      <td>...</td>\n",
       "      <td>...</td>\n",
       "    </tr>\n",
       "    <tr>\n",
       "      <th>3296</th>\n",
       "      <td>Ist die Bundesregierung angesichts der andau...</td>\n",
       "      <td>Inge Höger</td>\n",
       "      <td>Anhaltender Beifall bei der LINKEN</td>\n",
       "      <td></td>\n",
       "      <td></td>\n",
       "      <td></td>\n",
       "      <td>f</td>\n",
       "      <td></td>\n",
       "    </tr>\n",
       "    <tr>\n",
       "      <th>3297</th>\n",
       "      <td>Auf welcher Grundlage hat die Bundesregierung...</td>\n",
       "      <td>Wolfgang Wieland</td>\n",
       "      <td>vergleiche den „Hauptstadtbrief“ Nr. 72 vom De...</td>\n",
       "      <td></td>\n",
       "      <td></td>\n",
       "      <td></td>\n",
       "      <td>m</td>\n",
       "      <td></td>\n",
       "    </tr>\n",
       "    <tr>\n",
       "      <th>3299</th>\n",
       "      <td>ZP 2 Weitere Überweisungen im vereinfachten V...</td>\n",
       "      <td>Wolfgang Thierse</td>\n",
       "      <td></td>\n",
       "      <td></td>\n",
       "      <td></td>\n",
       "      <td></td>\n",
       "      <td>m</td>\n",
       "      <td></td>\n",
       "    </tr>\n",
       "    <tr>\n",
       "      <th>3300</th>\n",
       "      <td>Die Sitzung ist eröffnet. Liebe Kolleginnen u...</td>\n",
       "      <td>Norbert Lammert</td>\n",
       "      <td>Renate Künast [BÜNDNIS 90/DIE GRÜNEN]: Er fei...</td>\n",
       "      <td>Renate Künast</td>\n",
       "      <td>BÜNDNIS 90/DIE GRÜNEN</td>\n",
       "      <td>Er feiert noch!</td>\n",
       "      <td>m</td>\n",
       "      <td>f</td>\n",
       "    </tr>\n",
       "    <tr>\n",
       "      <th>3302</th>\n",
       "      <td>Guten Morgen, liebe Kolleginnen und Kollegen!...</td>\n",
       "      <td>Wolfgang Thierse</td>\n",
       "      <td>Salzgitter</td>\n",
       "      <td></td>\n",
       "      <td></td>\n",
       "      <td></td>\n",
       "      <td>m</td>\n",
       "      <td></td>\n",
       "    </tr>\n",
       "  </tbody>\n",
       "</table>\n",
       "<p>2476 rows × 8 columns</p>\n",
       "</div>"
      ],
      "text/plain": [
       "                                             Redeinhalt  Vortragende_Person  \\\n",
       "0     Interfraktionell ist vereinbart worden, die ve...    Wolfgang Thierse   \n",
       "1      Mit tiefer Betroffenheit haben wir erfahren, ...    Wolfgang Thierse   \n",
       "5      Herr Kollege Reichel, das war Ihre erste Rede...   Gerda Hasselfeldt   \n",
       "7      Guten Morgen, liebe Kolleginnen und Kollegen!...    Wolfgang Thierse   \n",
       "8      Guten Morgen, liebe Kolleginnen und Kollegen!...     Susanne Kastner   \n",
       "...                                                 ...                 ...   \n",
       "3296    Ist die Bundesregierung angesichts der andau...          Inge Höger   \n",
       "3297   Auf welcher Grundlage hat die Bundesregierung...    Wolfgang Wieland   \n",
       "3299   ZP 2 Weitere Überweisungen im vereinfachten V...    Wolfgang Thierse   \n",
       "3300   Die Sitzung ist eröffnet. Liebe Kolleginnen u...     Norbert Lammert   \n",
       "3302   Guten Morgen, liebe Kolleginnen und Kollegen!...    Wolfgang Thierse   \n",
       "\n",
       "                                          Unterbrechung Person_Unterbrechung  \\\n",
       "0                                 Vermittlungsausschuss                        \n",
       "1                                                                              \n",
       "5                                               Beifall                        \n",
       "7                           Die Anwesenden erheben sich                        \n",
       "8                                                                              \n",
       "...                                                 ...                  ...   \n",
       "3296                 Anhaltender Beifall bei der LINKEN                        \n",
       "3297  vergleiche den „Hauptstadtbrief“ Nr. 72 vom De...                        \n",
       "3299                                                                           \n",
       "3300   Renate Künast [BÜNDNIS 90/DIE GRÜNEN]: Er fei...        Renate Künast   \n",
       "3302                                         Salzgitter                        \n",
       "\n",
       "       Partei_Unterbrechung Redeinhalt_Unterbrechung Geschlecht_vort_Pers  \\\n",
       "0                                                                       m   \n",
       "1                                                                       m   \n",
       "5                                                                       f   \n",
       "7                                                                       m   \n",
       "8                                                                       f   \n",
       "...                     ...                      ...                  ...   \n",
       "3296                                                                    f   \n",
       "3297                                                                    m   \n",
       "3299                                                                    m   \n",
       "3300  BÜNDNIS 90/DIE GRÜNEN          Er feiert noch!                    m   \n",
       "3302                                                                    m   \n",
       "\n",
       "     Geschlecht_unterb_Pers  \n",
       "0                            \n",
       "1                            \n",
       "5                            \n",
       "7                            \n",
       "8                            \n",
       "...                     ...  \n",
       "3296                         \n",
       "3297                         \n",
       "3299                         \n",
       "3300                      f  \n",
       "3302                         \n",
       "\n",
       "[2476 rows x 8 columns]"
      ]
     },
     "execution_count": 22,
     "metadata": {},
     "output_type": "execute_result"
    }
   ],
   "source": [
    "data_clean"
   ]
  },
  {
   "cell_type": "markdown",
   "id": "7b5bdc97",
   "metadata": {},
   "source": [
    "### 4. Sentiment Analyse"
   ]
  },
  {
   "cell_type": "code",
   "execution_count": 23,
   "id": "659d745f",
   "metadata": {},
   "outputs": [],
   "source": [
    "sent_pol = [] # empty list\n",
    "sent_sub = [] # empty list\n",
    "\n",
    "for row in data_clean[\"Redeinhalt_Unterbrechung\"]:\n",
    "    if row != \"\":\n",
    "        blob = TextBlob(row)\n",
    "        # sentiment analysis\n",
    "        sent_pol.append(blob.sentiment.polarity)\n",
    "        sent_sub.append(blob.sentiment.subjectivity)\n",
    "    else:\n",
    "        sent_pol.append(\"\")\n",
    "        sent_sub.append(\"\")\n",
    "        \n",
    "data_clean[\"Polarity\"] = sent_pol\n",
    "data_clean[\"Subjectivity\"] = sent_sub"
   ]
  },
  {
   "cell_type": "markdown",
   "id": "05fb0141",
   "metadata": {},
   "source": [
    "### 5. Auswertung und Analyse der Daten  \n",
    "Mit Hilfe des erzeugten Dataframes können im Anschluss Analysen zur Beantwortung folgender Fragestellungen beantwortet werden:  \n",
    "* Verteilung der Redebeiträge zwischen Männern und Frauen im Verhältnis zur allgemeinen Verteilung der Abgeordneten im Deutschen Bundestag  \n",
    "* Verteilung der Redeunterbrechung zwischen Männern und Frauen  \n",
    "* Die meist unterbrechende Partei (inklusive Geschlecht)  \n",
    "* Relative Verteilung der Geschlechter - Wer unterbricht wen?\n",
    "* Sentiment Analyse der Redeunterbrechungen nach Geschlecht"
   ]
  },
  {
   "cell_type": "code",
   "execution_count": 24,
   "id": "627bdd95",
   "metadata": {},
   "outputs": [],
   "source": [
    "auswertung = data_clean"
   ]
  },
  {
   "cell_type": "code",
   "execution_count": 25,
   "id": "011e37cd",
   "metadata": {},
   "outputs": [],
   "source": [
    "auswertung = auswertung[auswertung[\"Geschlecht_vort_Pers\"] != \"\"] # only if gender is available in data"
   ]
  },
  {
   "cell_type": "markdown",
   "id": "aa6e20da",
   "metadata": {},
   "source": [
    "Durch einen Test wird ermittelt, dass `0 Zeilen` aus den Daten herausgenommen werden, aufgrund eines nicht zuordbaren Geschlechts. "
   ]
  },
  {
   "cell_type": "code",
   "execution_count": 26,
   "id": "478627be",
   "metadata": {},
   "outputs": [
    {
     "data": {
      "text/plain": [
       "1"
      ]
     },
     "execution_count": 26,
     "metadata": {},
     "output_type": "execute_result"
    }
   ],
   "source": [
    "len(data_clean) - len(auswertung)"
   ]
  },
  {
   "cell_type": "markdown",
   "id": "f4e8c27b",
   "metadata": {},
   "source": [
    "#### 5.1. Relative und absolute Häufigkeit der Redebeiträge von Männern und Frauen im Deutschen Bundestag"
   ]
  },
  {
   "cell_type": "code",
   "execution_count": 27,
   "id": "ee9f5391",
   "metadata": {},
   "outputs": [
    {
     "name": "stdout",
     "output_type": "stream",
     "text": [
      "Absolute Häufigkeit:\n",
      "   Geschlecht  Absolut\n",
      "0          m     1654\n",
      "1          f      821 \n",
      "\n",
      "Relative Häufigkeit:\n",
      "   Geschlecht   Relativ\n",
      "0          m  0.668283\n",
      "1          f  0.331717\n"
     ]
    }
   ],
   "source": [
    "# for not unique values\n",
    "absolute_frequencies = auswertung[\"Geschlecht_vort_Pers\"].value_counts().rename_axis('Geschlecht').reset_index(name=\"Absolut\")\n",
    "relative_frequencies = auswertung[\"Geschlecht_vort_Pers\"].value_counts(normalize=True).rename_axis('Geschlecht').reset_index(name=\"Relativ\")\n",
    "\n",
    "\n",
    "print(\"Absolute Häufigkeit:\\n\",absolute_frequencies,\"\\n\")\n",
    "print(\"Relative Häufigkeit:\\n\",relative_frequencies)"
   ]
  },
  {
   "cell_type": "markdown",
   "id": "791253e6",
   "metadata": {},
   "source": [
    "#### 5.2.  Relative und absolute Häufigkeit der Unterbrechungen von Männern und Frauen im Deutschen Bundestag"
   ]
  },
  {
   "cell_type": "code",
   "execution_count": 28,
   "id": "8315c6da",
   "metadata": {},
   "outputs": [
    {
     "name": "stdout",
     "output_type": "stream",
     "text": [
      "Absolute Häufigkeit:\n",
      "   Geschlecht  Absolut\n",
      "0          m      142\n",
      "1          f       45 \n",
      "\n",
      "Relative Häufigkeit:\n",
      "   Geschlecht   Relativ\n",
      "0          m  0.759358\n",
      "1          f  0.240642\n"
     ]
    }
   ],
   "source": [
    "# for not unique values\n",
    "interruptions = auswertung[auswertung[\"Geschlecht_unterb_Pers\"] != \"\"]\n",
    "absolute_frequencies_inter = interruptions[\"Geschlecht_unterb_Pers\"].value_counts().rename_axis('Geschlecht').reset_index(name=\"Absolut\")\n",
    "relative_frequencies_inter = interruptions[\"Geschlecht_unterb_Pers\"].value_counts(normalize=True).rename_axis('Geschlecht').reset_index(name=\"Relativ\")\n",
    "\n",
    "print(\"Absolute Häufigkeit:\\n\", absolute_frequencies_inter, \"\\n\")\n",
    "print(\"Relative Häufigkeit:\\n\", relative_frequencies_inter)"
   ]
  },
  {
   "cell_type": "markdown",
   "id": "13710924",
   "metadata": {},
   "source": [
    "Es ist bereits hier zu erkennen, dass die Verteilung von Männern und Frauen bei den Redebeiträgen und Unterbrechungen sehr ähnlich ist. Grundsätzlich lässt sich erkennen, dass Vorträge häufiger von Männern gehalten werden sowie Unterbrechungen häufiger durch Männer passieren.  \n",
    "Nun sollen die Verteilungen in einer Grafik visualisiert werden."
   ]
  },
  {
   "cell_type": "code",
   "execution_count": 29,
   "id": "21517fcd",
   "metadata": {},
   "outputs": [],
   "source": [
    "# concetenate dataframes\n",
    "relative_frequencies[\"Merkmal\"] = \"Redebeitrag\"\n",
    "relative_frequencies_inter[\"Merkmal\"] = \"Unterbrechung\"\n",
    "\n",
    "frames = [relative_frequencies, relative_frequencies_inter]\n",
    "result = pd.concat(frames, ignore_index=True, sort=False)\n",
    "# relative frequencies in percent\n",
    "result[\"Relativ\"] = result[\"Relativ\"]*100"
   ]
  },
  {
   "cell_type": "code",
   "execution_count": 30,
   "id": "e32481a2",
   "metadata": {},
   "outputs": [],
   "source": [
    "# reform table (wider)\n",
    "result = result.pivot_table(index=[\"Merkmal\"], \n",
    "                    columns=\"Geschlecht\", \n",
    "                    values=\"Relativ\")"
   ]
  },
  {
   "cell_type": "code",
   "execution_count": 31,
   "id": "14f92e5d",
   "metadata": {},
   "outputs": [
    {
     "data": {
      "text/html": [
       "<div>\n",
       "<style scoped>\n",
       "    .dataframe tbody tr th:only-of-type {\n",
       "        vertical-align: middle;\n",
       "    }\n",
       "\n",
       "    .dataframe tbody tr th {\n",
       "        vertical-align: top;\n",
       "    }\n",
       "\n",
       "    .dataframe thead th {\n",
       "        text-align: right;\n",
       "    }\n",
       "</style>\n",
       "<table border=\"1\" class=\"dataframe\">\n",
       "  <thead>\n",
       "    <tr style=\"text-align: right;\">\n",
       "      <th>Geschlecht</th>\n",
       "      <th>f</th>\n",
       "      <th>m</th>\n",
       "    </tr>\n",
       "    <tr>\n",
       "      <th>Merkmal</th>\n",
       "      <th></th>\n",
       "      <th></th>\n",
       "    </tr>\n",
       "  </thead>\n",
       "  <tbody>\n",
       "    <tr>\n",
       "      <th>Redebeitrag</th>\n",
       "      <td>33.171717</td>\n",
       "      <td>66.828283</td>\n",
       "    </tr>\n",
       "    <tr>\n",
       "      <th>Unterbrechung</th>\n",
       "      <td>24.064171</td>\n",
       "      <td>75.935829</td>\n",
       "    </tr>\n",
       "  </tbody>\n",
       "</table>\n",
       "</div>"
      ],
      "text/plain": [
       "Geschlecht             f          m\n",
       "Merkmal                            \n",
       "Redebeitrag    33.171717  66.828283\n",
       "Unterbrechung  24.064171  75.935829"
      ]
     },
     "execution_count": 31,
     "metadata": {},
     "output_type": "execute_result"
    }
   ],
   "source": [
    "result"
   ]
  },
  {
   "cell_type": "code",
   "execution_count": 32,
   "id": "d8f58b92",
   "metadata": {
    "scrolled": true
   },
   "outputs": [
    {
     "data": {
      "image/png": "[encoded data removed]",
      "text/plain": [
       "<Figure size 432x288 with 1 Axes>"
      ]
     },
     "metadata": {
      "needs_background": "light"
     },
     "output_type": "display_data"
    }
   ],
   "source": [
    "# data visualization\n",
    "mean_freq_fem = result[\"f\"].mean()\n",
    "mean_freq_men = result[\"m\"].mean()\n",
    "\n",
    "# plotting a bar chart\n",
    "result.plot(kind = \"barh\",\n",
    "        width = 0.7, color = [\"#409cff\", \"#ffbe40\"])\n",
    "\n",
    "plt.axvline(x = mean_freq_fem, color = \"#0063CC\") # vertical line mean female\n",
    "plt.axvline(x = mean_freq_men, color = \"#E09600\") # vertical line mean men\n",
    "plt.xlabel(\"in Prozent\") # naming the x-axis\n",
    "plt.ylabel(\"\") # naming the y-axis\n",
    "plt.title(\"nach Geschlecht\") # plot title\n",
    "plt.suptitle(\"Relative Häufigkeit von Redebeiträgen und Unterbrechungen\") # plot title\n",
    "plt.legend([\"⌀ Wortmeldung Frauen\", \"⌀ Wortmeldung Männer\", \"Frauen\", \"Männer\"], loc=\"upper left\", bbox_to_anchor=(1,1))\n",
    "  \n",
    "plt.show() # show plot"
   ]
  },
  {
   "cell_type": "markdown",
   "id": "e9fd8821",
   "metadata": {},
   "source": [
    "In dieser Grafik werden die relativen Häufigkeiten von Redebeiträgen und Unterbrechungen nach Geschlecht aufgezeigt. Die vertikalen Linien zeigen den durchschnittlichen Wortbeitrag von Frauen sowie Männern insgesamt. Die Differenz des durchschnittlichen Anteils liegt bei rund 32 Prozent, was eine hohe Differenz darstellt. "
   ]
  },
  {
   "cell_type": "markdown",
   "id": "37110ea2",
   "metadata": {},
   "source": [
    "#### 5.3. Die meist unterbrechende Partei (inklusive Geschlecht) "
   ]
  },
  {
   "cell_type": "code",
   "execution_count": 33,
   "id": "c59742f3",
   "metadata": {},
   "outputs": [],
   "source": [
    "party_inter = auswertung[auswertung[\"Geschlecht_unterb_Pers\"] != \"\"] # only if gender is available"
   ]
  },
  {
   "cell_type": "code",
   "execution_count": 34,
   "id": "f1fd81f6",
   "metadata": {},
   "outputs": [],
   "source": [
    "party_inter = party_inter.groupby([\"Partei_Unterbrechung\", \"Geschlecht_unterb_Pers\"]).size().reset_index(name='Anzahl')"
   ]
  },
  {
   "cell_type": "code",
   "execution_count": 35,
   "id": "84f88821",
   "metadata": {},
   "outputs": [],
   "source": [
    "# reform table (wider)\n",
    "party_inter_res = party_inter.pivot_table(index=[\"Partei_Unterbrechung\"], \n",
    "                    columns=\"Geschlecht_unterb_Pers\", \n",
    "                    values=\"Anzahl\")"
   ]
  },
  {
   "cell_type": "code",
   "execution_count": 36,
   "id": "9cfbd9fe",
   "metadata": {},
   "outputs": [
    {
     "data": {
      "text/html": [
       "<div>\n",
       "<style scoped>\n",
       "    .dataframe tbody tr th:only-of-type {\n",
       "        vertical-align: middle;\n",
       "    }\n",
       "\n",
       "    .dataframe tbody tr th {\n",
       "        vertical-align: top;\n",
       "    }\n",
       "\n",
       "    .dataframe thead th {\n",
       "        text-align: right;\n",
       "    }\n",
       "</style>\n",
       "<table border=\"1\" class=\"dataframe\">\n",
       "  <thead>\n",
       "    <tr style=\"text-align: right;\">\n",
       "      <th>Geschlecht_unterb_Pers</th>\n",
       "      <th>f</th>\n",
       "      <th>m</th>\n",
       "    </tr>\n",
       "    <tr>\n",
       "      <th>Partei_Unterbrechung</th>\n",
       "      <th></th>\n",
       "      <th></th>\n",
       "    </tr>\n",
       "  </thead>\n",
       "  <tbody>\n",
       "    <tr>\n",
       "      <th>BÜNDNIS 90/DIE GRÜNEN</th>\n",
       "      <td>12.0</td>\n",
       "      <td>20.0</td>\n",
       "    </tr>\n",
       "    <tr>\n",
       "      <th>CDU/CSU</th>\n",
       "      <td>2.0</td>\n",
       "      <td>50.0</td>\n",
       "    </tr>\n",
       "    <tr>\n",
       "      <th>DIE LINKE</th>\n",
       "      <td>17.0</td>\n",
       "      <td>7.0</td>\n",
       "    </tr>\n",
       "    <tr>\n",
       "      <th>FDP</th>\n",
       "      <td>2.0</td>\n",
       "      <td>35.0</td>\n",
       "    </tr>\n",
       "    <tr>\n",
       "      <th>Heringen SPD</th>\n",
       "      <td>NaN</td>\n",
       "      <td>1.0</td>\n",
       "    </tr>\n",
       "    <tr>\n",
       "      <th>SPD</th>\n",
       "      <td>11.0</td>\n",
       "      <td>29.0</td>\n",
       "    </tr>\n",
       "    <tr>\n",
       "      <th>fraktionslos</th>\n",
       "      <td>1.0</td>\n",
       "      <td>NaN</td>\n",
       "    </tr>\n",
       "  </tbody>\n",
       "</table>\n",
       "</div>"
      ],
      "text/plain": [
       "Geschlecht_unterb_Pers     f     m\n",
       "Partei_Unterbrechung              \n",
       "BÜNDNIS 90/DIE GRÜNEN   12.0  20.0\n",
       "CDU/CSU                  2.0  50.0\n",
       "DIE LINKE               17.0   7.0\n",
       "FDP                      2.0  35.0\n",
       "Heringen SPD             NaN   1.0\n",
       "SPD                     11.0  29.0\n",
       "fraktionslos             1.0   NaN"
      ]
     },
     "execution_count": 36,
     "metadata": {},
     "output_type": "execute_result"
    }
   ],
   "source": [
    "party_inter_res"
   ]
  },
  {
   "cell_type": "code",
   "execution_count": 37,
   "id": "7b159f8d",
   "metadata": {},
   "outputs": [
    {
     "data": {
      "image/png": "[encoded data removed]",
      "text/plain": [
       "<Figure size 432x288 with 1 Axes>"
      ]
     },
     "metadata": {
      "needs_background": "light"
     },
     "output_type": "display_data"
    }
   ],
   "source": [
    "# data visualization\n",
    "mean_freq_fem2 = party_inter_res[\"f\"].mean() # for row average\n",
    "mean_freq_men2 = party_inter_res[\"m\"].mean()\n",
    "\n",
    "# plotting a bar chart\n",
    "party_inter_res.plot(kind = \"bar\",\n",
    "        width = 0.7, color = [\"#409cff\", \"#ffbe40\"])\n",
    "\n",
    "plt.axhline(y=mean_freq_fem2, color= \"#0063CC\") # average frequency female\n",
    "plt.axhline(y=mean_freq_men2, color= \"#E09600\") # average frequency men\n",
    "plt.xlabel(\"\") # naming the x-axis\n",
    "plt.ylabel(\"Absolute Anzahl\") # naming the y-axis\n",
    "plt.title(\"nach Partei und Geschlecht\") # plot title\n",
    "plt.suptitle(\"Absolute Häufigkeit von Unterbrechungen\") # plot title\n",
    "plt.legend([\"⌀ Wortmeldung Frauen\", \"⌀ Wortmeldung Männer\", \"Frauen\", \"Männer\"], loc=\"upper left\", bbox_to_anchor=(1,1))\n",
    "  \n",
    "plt.show() # show plot"
   ]
  },
  {
   "cell_type": "markdown",
   "id": "c341ad86",
   "metadata": {},
   "source": [
    "In dieser Grafik ist gut zu erkennen, dass in der Partei \"Die Linke\" eindeutig mehr Frauen die Redebeiträge unterbrechen. Der Durchschnitt zeigt erneut, dass grundsätzlich mehr Männer die Redebeiträge unterbrechen. In der Partei \"Bündis 90/Die Grünen) sind die absoluten Anzahlen relativ ähnlich.  \n",
    "Die Partei, die die meisten Wortunterbrechungen hat ist SPD, die FDP hält sich im Gegensatz dazu sehr zurück."
   ]
  },
  {
   "cell_type": "markdown",
   "id": "c41c07a5",
   "metadata": {},
   "source": [
    "#### 5.4. Relative Verteilung der Geschlechter - Wer unterbricht wen? "
   ]
  },
  {
   "cell_type": "code",
   "execution_count": 38,
   "id": "0c4e402a",
   "metadata": {},
   "outputs": [],
   "source": [
    "gender_inter = auswertung[auswertung[\"Geschlecht_unterb_Pers\"] != \"\"] # only if gender is available\n",
    "gender_inter = gender_inter.groupby([\"Geschlecht_unterb_Pers\", \"Geschlecht_vort_Pers\"]).size().reset_index(name='Anzahl')"
   ]
  },
  {
   "cell_type": "code",
   "execution_count": 39,
   "id": "41dbcca1",
   "metadata": {},
   "outputs": [
    {
     "data": {
      "text/html": [
       "<div>\n",
       "<style scoped>\n",
       "    .dataframe tbody tr th:only-of-type {\n",
       "        vertical-align: middle;\n",
       "    }\n",
       "\n",
       "    .dataframe tbody tr th {\n",
       "        vertical-align: top;\n",
       "    }\n",
       "\n",
       "    .dataframe thead th {\n",
       "        text-align: right;\n",
       "    }\n",
       "</style>\n",
       "<table border=\"1\" class=\"dataframe\">\n",
       "  <thead>\n",
       "    <tr style=\"text-align: right;\">\n",
       "      <th></th>\n",
       "      <th>Geschlecht_unterb_Pers</th>\n",
       "      <th>Geschlecht_vort_Pers</th>\n",
       "      <th>Anzahl</th>\n",
       "    </tr>\n",
       "  </thead>\n",
       "  <tbody>\n",
       "    <tr>\n",
       "      <th>0</th>\n",
       "      <td>f</td>\n",
       "      <td>f</td>\n",
       "      <td>13</td>\n",
       "    </tr>\n",
       "    <tr>\n",
       "      <th>1</th>\n",
       "      <td>f</td>\n",
       "      <td>m</td>\n",
       "      <td>32</td>\n",
       "    </tr>\n",
       "    <tr>\n",
       "      <th>2</th>\n",
       "      <td>m</td>\n",
       "      <td>f</td>\n",
       "      <td>41</td>\n",
       "    </tr>\n",
       "    <tr>\n",
       "      <th>3</th>\n",
       "      <td>m</td>\n",
       "      <td>m</td>\n",
       "      <td>101</td>\n",
       "    </tr>\n",
       "  </tbody>\n",
       "</table>\n",
       "</div>"
      ],
      "text/plain": [
       "  Geschlecht_unterb_Pers Geschlecht_vort_Pers  Anzahl\n",
       "0                      f                    f      13\n",
       "1                      f                    m      32\n",
       "2                      m                    f      41\n",
       "3                      m                    m     101"
      ]
     },
     "execution_count": 39,
     "metadata": {},
     "output_type": "execute_result"
    }
   ],
   "source": [
    "gender_inter"
   ]
  },
  {
   "cell_type": "code",
   "execution_count": 40,
   "id": "a5752b32",
   "metadata": {},
   "outputs": [
    {
     "name": "stderr",
     "output_type": "stream",
     "text": [
      "C:\\Users\\Ulli\\AppData\\Local\\Temp\\ipykernel_6612\\1984627187.py:19: SettingWithCopyWarning: \n",
      "A value is trying to be set on a copy of a slice from a DataFrame.\n",
      "Try using .loc[row_indexer,col_indexer] = value instead\n",
      "\n",
      "See the caveats in the documentation: https://pandas.pydata.org/pandas-docs/stable/user_guide/indexing.html#returning-a-view-versus-a-copy\n",
      "  fems[\"Relativ\"] = rel_freq_f\n",
      "C:\\Users\\Ulli\\AppData\\Local\\Temp\\ipykernel_6612\\1984627187.py:20: SettingWithCopyWarning: \n",
      "A value is trying to be set on a copy of a slice from a DataFrame.\n",
      "Try using .loc[row_indexer,col_indexer] = value instead\n",
      "\n",
      "See the caveats in the documentation: https://pandas.pydata.org/pandas-docs/stable/user_guide/indexing.html#returning-a-view-versus-a-copy\n",
      "  men[\"Relativ\"] = rel_freq_m\n"
     ]
    }
   ],
   "source": [
    "# calculate relative frequency\n",
    "fems = gender_inter[gender_inter[\"Geschlecht_unterb_Pers\"] == \"f\"]\n",
    "men = gender_inter[gender_inter[\"Geschlecht_unterb_Pers\"] == \"m\"]\n",
    "\n",
    "total_num_f = fems.Anzahl.sum()\n",
    "total_num_m = men.Anzahl.sum()\n",
    "\n",
    "rel_freq_f = []\n",
    "for n in fems[\"Anzahl\"]:\n",
    "    num_f = n/total_num_f*100\n",
    "    rel_freq_f.append(num_f)\n",
    "\n",
    "rel_freq_m = []\n",
    "for n in men[\"Anzahl\"]:\n",
    "    num_m = n/total_num_m*100\n",
    "    rel_freq_m.append(num_m)\n",
    "    \n",
    "\n",
    "fems[\"Relativ\"] = rel_freq_f\n",
    "men[\"Relativ\"] = rel_freq_m \n",
    "\n",
    "# to drop column \"Anzahl\" and \"Geschlecht_unterb_Pers\"\n",
    "fems = fems.drop([\"Anzahl\", \"Geschlecht_unterb_Pers\"], axis=1)\n",
    "men = men.drop([\"Anzahl\", \"Geschlecht_unterb_Pers\"], axis=1) # to drop column \"Anzahl\""
   ]
  },
  {
   "cell_type": "code",
   "execution_count": 41,
   "id": "57536047",
   "metadata": {},
   "outputs": [
    {
     "data": {
      "text/html": [
       "<div>\n",
       "<style scoped>\n",
       "    .dataframe tbody tr th:only-of-type {\n",
       "        vertical-align: middle;\n",
       "    }\n",
       "\n",
       "    .dataframe tbody tr th {\n",
       "        vertical-align: top;\n",
       "    }\n",
       "\n",
       "    .dataframe thead th {\n",
       "        text-align: right;\n",
       "    }\n",
       "</style>\n",
       "<table border=\"1\" class=\"dataframe\">\n",
       "  <thead>\n",
       "    <tr style=\"text-align: right;\">\n",
       "      <th></th>\n",
       "      <th>Geschlecht_vort_Pers</th>\n",
       "      <th>Relativ</th>\n",
       "      <th>Wird_unterbrochen_von</th>\n",
       "    </tr>\n",
       "  </thead>\n",
       "  <tbody>\n",
       "    <tr>\n",
       "      <th>0</th>\n",
       "      <td>f</td>\n",
       "      <td>28.888889</td>\n",
       "      <td>Frau</td>\n",
       "    </tr>\n",
       "    <tr>\n",
       "      <th>1</th>\n",
       "      <td>m</td>\n",
       "      <td>71.111111</td>\n",
       "      <td>Frau</td>\n",
       "    </tr>\n",
       "    <tr>\n",
       "      <th>2</th>\n",
       "      <td>f</td>\n",
       "      <td>28.873239</td>\n",
       "      <td>Mann</td>\n",
       "    </tr>\n",
       "    <tr>\n",
       "      <th>3</th>\n",
       "      <td>m</td>\n",
       "      <td>71.126761</td>\n",
       "      <td>Mann</td>\n",
       "    </tr>\n",
       "  </tbody>\n",
       "</table>\n",
       "</div>"
      ],
      "text/plain": [
       "  Geschlecht_vort_Pers    Relativ Wird_unterbrochen_von\n",
       "0                    f  28.888889                  Frau\n",
       "1                    m  71.111111                  Frau\n",
       "2                    f  28.873239                  Mann\n",
       "3                    m  71.126761                  Mann"
      ]
     },
     "execution_count": 41,
     "metadata": {},
     "output_type": "execute_result"
    }
   ],
   "source": [
    "# concetenate dataframes\n",
    "fems[\"Wird_unterbrochen_von\"] = \"Frau\"\n",
    "men[\"Wird_unterbrochen_von\"] = \"Mann\"\n",
    "\n",
    "frames = [fems, men]\n",
    "result_genders = pd.concat(frames, ignore_index=True, sort=False)\n",
    "result_genders"
   ]
  },
  {
   "cell_type": "code",
   "execution_count": 42,
   "id": "217b87b7",
   "metadata": {},
   "outputs": [],
   "source": [
    "# reform table (wider)\n",
    "result_genders = result_genders.pivot_table(index=[\"Wird_unterbrochen_von\"], \n",
    "                    columns=\"Geschlecht_vort_Pers\", \n",
    "                    values=\"Relativ\")"
   ]
  },
  {
   "cell_type": "code",
   "execution_count": 43,
   "id": "388b9cee",
   "metadata": {},
   "outputs": [
    {
     "data": {
      "text/html": [
       "<div>\n",
       "<style scoped>\n",
       "    .dataframe tbody tr th:only-of-type {\n",
       "        vertical-align: middle;\n",
       "    }\n",
       "\n",
       "    .dataframe tbody tr th {\n",
       "        vertical-align: top;\n",
       "    }\n",
       "\n",
       "    .dataframe thead th {\n",
       "        text-align: right;\n",
       "    }\n",
       "</style>\n",
       "<table border=\"1\" class=\"dataframe\">\n",
       "  <thead>\n",
       "    <tr style=\"text-align: right;\">\n",
       "      <th>Geschlecht_vort_Pers</th>\n",
       "      <th>f</th>\n",
       "      <th>m</th>\n",
       "    </tr>\n",
       "    <tr>\n",
       "      <th>Wird_unterbrochen_von</th>\n",
       "      <th></th>\n",
       "      <th></th>\n",
       "    </tr>\n",
       "  </thead>\n",
       "  <tbody>\n",
       "    <tr>\n",
       "      <th>Frau</th>\n",
       "      <td>28.888889</td>\n",
       "      <td>71.111111</td>\n",
       "    </tr>\n",
       "    <tr>\n",
       "      <th>Mann</th>\n",
       "      <td>28.873239</td>\n",
       "      <td>71.126761</td>\n",
       "    </tr>\n",
       "  </tbody>\n",
       "</table>\n",
       "</div>"
      ],
      "text/plain": [
       "Geschlecht_vort_Pers           f          m\n",
       "Wird_unterbrochen_von                      \n",
       "Frau                   28.888889  71.111111\n",
       "Mann                   28.873239  71.126761"
      ]
     },
     "execution_count": 43,
     "metadata": {},
     "output_type": "execute_result"
    }
   ],
   "source": [
    "result_genders"
   ]
  },
  {
   "cell_type": "code",
   "execution_count": 44,
   "id": "105dc3ee",
   "metadata": {},
   "outputs": [
    {
     "data": {
      "image/png": "[encoded data removed]",
      "text/plain": [
       "<Figure size 432x288 with 1 Axes>"
      ]
     },
     "metadata": {
      "needs_background": "light"
     },
     "output_type": "display_data"
    }
   ],
   "source": [
    "# data visualization\n",
    "mean_freq_inter_fem = result_genders[\"f\"].mean() # for row average\n",
    "mean_freq_inter_men = result_genders[\"m\"].mean()\n",
    "\n",
    "# plotting a bar chart\n",
    "result_genders.plot(kind = \"bar\",\n",
    "        width = 0.7, color = [\"#409cff\", \"#ffbe40\"])\n",
    "\n",
    "plt.axhline(y=mean_freq_inter_fem, color= \"#0063CC\") # average frequency female\n",
    "plt.axhline(y=mean_freq_inter_men, color= \"#E09600\") # average frequency men\n",
    "plt.xlabel(\"Wird unterbrochen von\") # naming the x-axis\n",
    "plt.ylabel(\"in Prozent\") # naming the y-axis\n",
    "plt.title(\"nach Partei und Geschlecht\") # plot title\n",
    "plt.suptitle(\"Absolute Häufigkeit von Unterbrechungen\") # plot title\n",
    "plt.legend([\"⌀ Unterbrochener Männer\", \"⌀ Unterbrochener Frauen\", \"Frauen\", \"Männer\"], loc=\"upper left\", bbox_to_anchor=(1,1))\n",
    "  \n",
    "plt.show() # show plot"
   ]
  },
  {
   "cell_type": "markdown",
   "id": "7ade86c9",
   "metadata": {},
   "source": [
    "Es ist zu erkennen, dass Männer durchschnittlich häufiger unterbrochen werden als Frauen. Hierbei zeigt die Grafik, dass sowohl Männer das gleiche Geschlecht, als auch Frauen Männer häufiger unterbrechen."
   ]
  },
  {
   "cell_type": "markdown",
   "id": "a7acd27c",
   "metadata": {},
   "source": [
    "#### 5.5. Sentiment Analyse der Redeunterbrechungen nach Geschlecht"
   ]
  },
  {
   "cell_type": "code",
   "execution_count": 45,
   "id": "296099ac",
   "metadata": {},
   "outputs": [
    {
     "name": "stderr",
     "output_type": "stream",
     "text": [
      "C:\\Users\\Ulli\\AppData\\Local\\Temp\\ipykernel_6612\\2915807098.py:20: SettingWithCopyWarning: \n",
      "A value is trying to be set on a copy of a slice from a DataFrame.\n",
      "Try using .loc[row_indexer,col_indexer] = value instead\n",
      "\n",
      "See the caveats in the documentation: https://pandas.pydata.org/pandas-docs/stable/user_guide/indexing.html#returning-a-view-versus-a-copy\n",
      "  auswertung[\"Sentiment_Tendenz\"] = tendency\n"
     ]
    }
   ],
   "source": [
    "# sentiment tendencies of interruption\n",
    "# above 0.5 = positive\n",
    "# 0.0 = neutral\n",
    "# below -0.49  = negative\n",
    "tendency = []\n",
    "for p in auswertung[\"Polarity\"]:\n",
    "    if p != \"\":\n",
    "        if p > 0.0:\n",
    "            sent = \"positive\"\n",
    "            tendency.append(sent)\n",
    "        elif p == 0.0:\n",
    "            sent = \"neutral\"\n",
    "            tendency.append(sent)\n",
    "        else:\n",
    "            sent = \"negative\"\n",
    "            tendency.append(sent)\n",
    "    else:\n",
    "        tendency.append(\"\")\n",
    "\n",
    "auswertung[\"Sentiment_Tendenz\"] = tendency"
   ]
  },
  {
   "cell_type": "code",
   "execution_count": 46,
   "id": "3d55635c",
   "metadata": {},
   "outputs": [],
   "source": [
    "sentiment_notNull = auswertung[auswertung[\"Sentiment_Tendenz\"] != \"\"]\n",
    "sentiment_notNull = sentiment_notNull[sentiment_notNull[\"Geschlecht_unterb_Pers\"] != \"\"]"
   ]
  },
  {
   "cell_type": "code",
   "execution_count": 47,
   "id": "918a571f",
   "metadata": {},
   "outputs": [],
   "source": [
    "sentiment = sentiment_notNull.groupby([\"Geschlecht_unterb_Pers\", \"Sentiment_Tendenz\"]).size().reset_index(name='Anzahl')"
   ]
  },
  {
   "cell_type": "code",
   "execution_count": 48,
   "id": "36768916",
   "metadata": {},
   "outputs": [
    {
     "name": "stderr",
     "output_type": "stream",
     "text": [
      "C:\\Users\\Ulli\\AppData\\Local\\Temp\\ipykernel_6612\\3265206689.py:19: SettingWithCopyWarning: \n",
      "A value is trying to be set on a copy of a slice from a DataFrame.\n",
      "Try using .loc[row_indexer,col_indexer] = value instead\n",
      "\n",
      "See the caveats in the documentation: https://pandas.pydata.org/pandas-docs/stable/user_guide/indexing.html#returning-a-view-versus-a-copy\n",
      "  fems[\"Anteil\"] = rel_freq_f\n",
      "C:\\Users\\Ulli\\AppData\\Local\\Temp\\ipykernel_6612\\3265206689.py:20: SettingWithCopyWarning: \n",
      "A value is trying to be set on a copy of a slice from a DataFrame.\n",
      "Try using .loc[row_indexer,col_indexer] = value instead\n",
      "\n",
      "See the caveats in the documentation: https://pandas.pydata.org/pandas-docs/stable/user_guide/indexing.html#returning-a-view-versus-a-copy\n",
      "  men[\"Anteil\"] = rel_freq_m\n"
     ]
    }
   ],
   "source": [
    "# calculate relative frequency\n",
    "fems = sentiment[sentiment[\"Geschlecht_unterb_Pers\"] == \"f\"]\n",
    "men = sentiment[sentiment[\"Geschlecht_unterb_Pers\"] == \"m\"]\n",
    "\n",
    "total_num_f = fems.Anzahl.sum()\n",
    "total_num_m = men.Anzahl.sum()\n",
    "\n",
    "rel_freq_f = []\n",
    "for n in fems[\"Anzahl\"]:\n",
    "    num_f = n/total_num_f*100\n",
    "    rel_freq_f.append(num_f)\n",
    "\n",
    "rel_freq_m = []\n",
    "for n in men[\"Anzahl\"]:\n",
    "    num_m = n/total_num_m*100\n",
    "    rel_freq_m.append(num_m)\n",
    "    \n",
    "\n",
    "fems[\"Anteil\"] = rel_freq_f\n",
    "men[\"Anteil\"] = rel_freq_m "
   ]
  },
  {
   "cell_type": "code",
   "execution_count": 49,
   "id": "ff6398fe",
   "metadata": {},
   "outputs": [
    {
     "data": {
      "text/html": [
       "<div>\n",
       "<style scoped>\n",
       "    .dataframe tbody tr th:only-of-type {\n",
       "        vertical-align: middle;\n",
       "    }\n",
       "\n",
       "    .dataframe tbody tr th {\n",
       "        vertical-align: top;\n",
       "    }\n",
       "\n",
       "    .dataframe thead th {\n",
       "        text-align: right;\n",
       "    }\n",
       "</style>\n",
       "<table border=\"1\" class=\"dataframe\">\n",
       "  <thead>\n",
       "    <tr style=\"text-align: right;\">\n",
       "      <th></th>\n",
       "      <th>Geschlecht_unterb_Pers</th>\n",
       "      <th>Sentiment_Tendenz</th>\n",
       "      <th>Anzahl</th>\n",
       "      <th>Anteil</th>\n",
       "    </tr>\n",
       "  </thead>\n",
       "  <tbody>\n",
       "    <tr>\n",
       "      <th>0</th>\n",
       "      <td>f</td>\n",
       "      <td>negative</td>\n",
       "      <td>3</td>\n",
       "      <td>6.666667</td>\n",
       "    </tr>\n",
       "    <tr>\n",
       "      <th>1</th>\n",
       "      <td>f</td>\n",
       "      <td>neutral</td>\n",
       "      <td>30</td>\n",
       "      <td>66.666667</td>\n",
       "    </tr>\n",
       "    <tr>\n",
       "      <th>2</th>\n",
       "      <td>f</td>\n",
       "      <td>positive</td>\n",
       "      <td>12</td>\n",
       "      <td>26.666667</td>\n",
       "    </tr>\n",
       "    <tr>\n",
       "      <th>3</th>\n",
       "      <td>m</td>\n",
       "      <td>negative</td>\n",
       "      <td>11</td>\n",
       "      <td>7.746479</td>\n",
       "    </tr>\n",
       "    <tr>\n",
       "      <th>4</th>\n",
       "      <td>m</td>\n",
       "      <td>neutral</td>\n",
       "      <td>101</td>\n",
       "      <td>71.126761</td>\n",
       "    </tr>\n",
       "    <tr>\n",
       "      <th>5</th>\n",
       "      <td>m</td>\n",
       "      <td>positive</td>\n",
       "      <td>30</td>\n",
       "      <td>21.126761</td>\n",
       "    </tr>\n",
       "  </tbody>\n",
       "</table>\n",
       "</div>"
      ],
      "text/plain": [
       "  Geschlecht_unterb_Pers Sentiment_Tendenz  Anzahl     Anteil\n",
       "0                      f          negative       3   6.666667\n",
       "1                      f           neutral      30  66.666667\n",
       "2                      f          positive      12  26.666667\n",
       "3                      m          negative      11   7.746479\n",
       "4                      m           neutral     101  71.126761\n",
       "5                      m          positive      30  21.126761"
      ]
     },
     "execution_count": 49,
     "metadata": {},
     "output_type": "execute_result"
    }
   ],
   "source": [
    "# concetenate dataframes\n",
    "frames = [fems, men]\n",
    "sentiment_res = pd.concat(frames, ignore_index=True, sort=False)\n",
    "sentiment_res"
   ]
  },
  {
   "cell_type": "code",
   "execution_count": 50,
   "id": "d6444640",
   "metadata": {},
   "outputs": [],
   "source": [
    "# reform table (wider)\n",
    "sentiment_res = sentiment_res.pivot_table(index=[\"Sentiment_Tendenz\"], \n",
    "                    columns=\"Geschlecht_unterb_Pers\", \n",
    "                    values=\"Anteil\")"
   ]
  },
  {
   "cell_type": "code",
   "execution_count": 51,
   "id": "683810e1",
   "metadata": {},
   "outputs": [
    {
     "data": {
      "text/html": [
       "<div>\n",
       "<style scoped>\n",
       "    .dataframe tbody tr th:only-of-type {\n",
       "        vertical-align: middle;\n",
       "    }\n",
       "\n",
       "    .dataframe tbody tr th {\n",
       "        vertical-align: top;\n",
       "    }\n",
       "\n",
       "    .dataframe thead th {\n",
       "        text-align: right;\n",
       "    }\n",
       "</style>\n",
       "<table border=\"1\" class=\"dataframe\">\n",
       "  <thead>\n",
       "    <tr style=\"text-align: right;\">\n",
       "      <th>Geschlecht_unterb_Pers</th>\n",
       "      <th>f</th>\n",
       "      <th>m</th>\n",
       "    </tr>\n",
       "    <tr>\n",
       "      <th>Sentiment_Tendenz</th>\n",
       "      <th></th>\n",
       "      <th></th>\n",
       "    </tr>\n",
       "  </thead>\n",
       "  <tbody>\n",
       "    <tr>\n",
       "      <th>negative</th>\n",
       "      <td>6.666667</td>\n",
       "      <td>7.746479</td>\n",
       "    </tr>\n",
       "    <tr>\n",
       "      <th>neutral</th>\n",
       "      <td>66.666667</td>\n",
       "      <td>71.126761</td>\n",
       "    </tr>\n",
       "    <tr>\n",
       "      <th>positive</th>\n",
       "      <td>26.666667</td>\n",
       "      <td>21.126761</td>\n",
       "    </tr>\n",
       "  </tbody>\n",
       "</table>\n",
       "</div>"
      ],
      "text/plain": [
       "Geschlecht_unterb_Pers          f          m\n",
       "Sentiment_Tendenz                           \n",
       "negative                 6.666667   7.746479\n",
       "neutral                 66.666667  71.126761\n",
       "positive                26.666667  21.126761"
      ]
     },
     "execution_count": 51,
     "metadata": {},
     "output_type": "execute_result"
    }
   ],
   "source": [
    "sentiment_res"
   ]
  },
  {
   "cell_type": "code",
   "execution_count": 52,
   "id": "91733590",
   "metadata": {},
   "outputs": [
    {
     "data": {
      "image/png": "[encoded data removed]",
      "text/plain": [
       "<Figure size 432x288 with 1 Axes>"
      ]
     },
     "metadata": {
      "needs_background": "light"
     },
     "output_type": "display_data"
    }
   ],
   "source": [
    "# data visualization\n",
    "# plotting a bar chart\n",
    "sentiment_res.plot(kind = \"barh\",\n",
    "        width = 0.7, color = [\"#409cff\", \"#ffbe40\"])\n",
    "\n",
    "plt.xlabel(\"in Prozent\") # naming the x-axis\n",
    "plt.ylabel(\"\") # naming the y-axis\n",
    "plt.title(\"nach Geschlecht\") # plot title\n",
    "plt.suptitle(\"Relative Häufigkeit der Stimmungsanalyse\") # plot title\n",
    "plt.legend([\"Frauen\", \"Männer\"], loc=\"upper left\", bbox_to_anchor=(1,1))\n",
    "  \n",
    "plt.show() # show plot"
   ]
  }
 ],
 "metadata": {
  "kernelspec": {
   "display_name": "Python 3 (ipykernel)",
   "language": "python",
   "name": "python3"
  },
  "language_info": {
   "codemirror_mode": {
    "name": "ipython",
    "version": 3
   },
   "file_extension": ".py",
   "mimetype": "text/x-python",
   "name": "python",
   "nbconvert_exporter": "python",
   "pygments_lexer": "ipython3",
   "version": "3.10.5"
  }
 },
 "nbformat": 4,
 "nbformat_minor": 5
}
